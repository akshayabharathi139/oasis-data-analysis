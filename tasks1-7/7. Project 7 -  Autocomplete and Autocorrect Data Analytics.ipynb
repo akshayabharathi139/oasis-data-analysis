{
 "cells": [
  {
   "cell_type": "markdown",
   "id": "dc70e3e3-337d-469f-872c-aedc96d1ea1e",
   "metadata": {},
   "source": [
    "# Importing the Libraries\n",
    "\n",
    "Essential libraries for data manipulation, visualization, and machine learning are imported."
   ]
  },
  {
   "cell_type": "code",
   "execution_count": 71,
   "id": "03f20eaf-d975-4d5b-bb40-0bd6e1ed02e6",
   "metadata": {},
   "outputs": [],
   "source": [
    "import pandas as pd\n",
    "import numpy as np\n",
    "import matplotlib.pyplot as plt\n",
    "import seaborn as sns\n",
    "import re\n",
    "from sklearn.model_selection import train_test_split\n",
    "from sklearn.ensemble import RandomForestClassifier\n",
    "from sklearn.metrics import classification_report, confusion_matrix\n",
    "from collections import Counter\n",
    "\n",
    "# Supress Warnings\n",
    "import warnings \n",
    "warnings.filterwarnings('ignore')"
   ]
  },
  {
   "cell_type": "markdown",
   "id": "1dc8d5d6-f66e-46db-928c-98489f6e09de",
   "metadata": {},
   "source": [
    "# Loading the Dataset"
   ]
  },
  {
   "cell_type": "code",
   "execution_count": 72,
   "id": "79554055-761d-4a52-82e3-f4baa5db00e0",
   "metadata": {},
   "outputs": [
    {
     "data": {
      "text/html": [
       "<div>\n",
       "<style scoped>\n",
       "    .dataframe tbody tr th:only-of-type {\n",
       "        vertical-align: middle;\n",
       "    }\n",
       "\n",
       "    .dataframe tbody tr th {\n",
       "        vertical-align: top;\n",
       "    }\n",
       "\n",
       "    .dataframe thead th {\n",
       "        text-align: right;\n",
       "    }\n",
       "</style>\n",
       "<table border=\"1\" class=\"dataframe\">\n",
       "  <thead>\n",
       "    <tr style=\"text-align: right;\">\n",
       "      <th></th>\n",
       "      <th>Time</th>\n",
       "      <th>V1</th>\n",
       "      <th>V2</th>\n",
       "      <th>V3</th>\n",
       "      <th>V4</th>\n",
       "      <th>V5</th>\n",
       "      <th>V6</th>\n",
       "      <th>V7</th>\n",
       "      <th>V8</th>\n",
       "      <th>V9</th>\n",
       "      <th>...</th>\n",
       "      <th>V21</th>\n",
       "      <th>V22</th>\n",
       "      <th>V23</th>\n",
       "      <th>V24</th>\n",
       "      <th>V25</th>\n",
       "      <th>V26</th>\n",
       "      <th>V27</th>\n",
       "      <th>V28</th>\n",
       "      <th>Amount</th>\n",
       "      <th>Class</th>\n",
       "    </tr>\n",
       "  </thead>\n",
       "  <tbody>\n",
       "    <tr>\n",
       "      <th>0</th>\n",
       "      <td>0.0</td>\n",
       "      <td>-1.359807</td>\n",
       "      <td>-0.072781</td>\n",
       "      <td>2.536347</td>\n",
       "      <td>1.378155</td>\n",
       "      <td>-0.338321</td>\n",
       "      <td>0.462388</td>\n",
       "      <td>0.239599</td>\n",
       "      <td>0.098698</td>\n",
       "      <td>0.363787</td>\n",
       "      <td>...</td>\n",
       "      <td>-0.018307</td>\n",
       "      <td>0.277838</td>\n",
       "      <td>-0.110474</td>\n",
       "      <td>0.066928</td>\n",
       "      <td>0.128539</td>\n",
       "      <td>-0.189115</td>\n",
       "      <td>0.133558</td>\n",
       "      <td>-0.021053</td>\n",
       "      <td>149.62</td>\n",
       "      <td>0</td>\n",
       "    </tr>\n",
       "    <tr>\n",
       "      <th>1</th>\n",
       "      <td>0.0</td>\n",
       "      <td>1.191857</td>\n",
       "      <td>0.266151</td>\n",
       "      <td>0.166480</td>\n",
       "      <td>0.448154</td>\n",
       "      <td>0.060018</td>\n",
       "      <td>-0.082361</td>\n",
       "      <td>-0.078803</td>\n",
       "      <td>0.085102</td>\n",
       "      <td>-0.255425</td>\n",
       "      <td>...</td>\n",
       "      <td>-0.225775</td>\n",
       "      <td>-0.638672</td>\n",
       "      <td>0.101288</td>\n",
       "      <td>-0.339846</td>\n",
       "      <td>0.167170</td>\n",
       "      <td>0.125895</td>\n",
       "      <td>-0.008983</td>\n",
       "      <td>0.014724</td>\n",
       "      <td>2.69</td>\n",
       "      <td>0</td>\n",
       "    </tr>\n",
       "    <tr>\n",
       "      <th>2</th>\n",
       "      <td>1.0</td>\n",
       "      <td>-1.358354</td>\n",
       "      <td>-1.340163</td>\n",
       "      <td>1.773209</td>\n",
       "      <td>0.379780</td>\n",
       "      <td>-0.503198</td>\n",
       "      <td>1.800499</td>\n",
       "      <td>0.791461</td>\n",
       "      <td>0.247676</td>\n",
       "      <td>-1.514654</td>\n",
       "      <td>...</td>\n",
       "      <td>0.247998</td>\n",
       "      <td>0.771679</td>\n",
       "      <td>0.909412</td>\n",
       "      <td>-0.689281</td>\n",
       "      <td>-0.327642</td>\n",
       "      <td>-0.139097</td>\n",
       "      <td>-0.055353</td>\n",
       "      <td>-0.059752</td>\n",
       "      <td>378.66</td>\n",
       "      <td>0</td>\n",
       "    </tr>\n",
       "    <tr>\n",
       "      <th>3</th>\n",
       "      <td>1.0</td>\n",
       "      <td>-0.966272</td>\n",
       "      <td>-0.185226</td>\n",
       "      <td>1.792993</td>\n",
       "      <td>-0.863291</td>\n",
       "      <td>-0.010309</td>\n",
       "      <td>1.247203</td>\n",
       "      <td>0.237609</td>\n",
       "      <td>0.377436</td>\n",
       "      <td>-1.387024</td>\n",
       "      <td>...</td>\n",
       "      <td>-0.108300</td>\n",
       "      <td>0.005274</td>\n",
       "      <td>-0.190321</td>\n",
       "      <td>-1.175575</td>\n",
       "      <td>0.647376</td>\n",
       "      <td>-0.221929</td>\n",
       "      <td>0.062723</td>\n",
       "      <td>0.061458</td>\n",
       "      <td>123.50</td>\n",
       "      <td>0</td>\n",
       "    </tr>\n",
       "    <tr>\n",
       "      <th>4</th>\n",
       "      <td>2.0</td>\n",
       "      <td>-1.158233</td>\n",
       "      <td>0.877737</td>\n",
       "      <td>1.548718</td>\n",
       "      <td>0.403034</td>\n",
       "      <td>-0.407193</td>\n",
       "      <td>0.095921</td>\n",
       "      <td>0.592941</td>\n",
       "      <td>-0.270533</td>\n",
       "      <td>0.817739</td>\n",
       "      <td>...</td>\n",
       "      <td>-0.009431</td>\n",
       "      <td>0.798278</td>\n",
       "      <td>-0.137458</td>\n",
       "      <td>0.141267</td>\n",
       "      <td>-0.206010</td>\n",
       "      <td>0.502292</td>\n",
       "      <td>0.219422</td>\n",
       "      <td>0.215153</td>\n",
       "      <td>69.99</td>\n",
       "      <td>0</td>\n",
       "    </tr>\n",
       "  </tbody>\n",
       "</table>\n",
       "<p>5 rows × 31 columns</p>\n",
       "</div>"
      ],
      "text/plain": [
       "   Time        V1        V2        V3        V4        V5        V6        V7  \\\n",
       "0   0.0 -1.359807 -0.072781  2.536347  1.378155 -0.338321  0.462388  0.239599   \n",
       "1   0.0  1.191857  0.266151  0.166480  0.448154  0.060018 -0.082361 -0.078803   \n",
       "2   1.0 -1.358354 -1.340163  1.773209  0.379780 -0.503198  1.800499  0.791461   \n",
       "3   1.0 -0.966272 -0.185226  1.792993 -0.863291 -0.010309  1.247203  0.237609   \n",
       "4   2.0 -1.158233  0.877737  1.548718  0.403034 -0.407193  0.095921  0.592941   \n",
       "\n",
       "         V8        V9  ...       V21       V22       V23       V24       V25  \\\n",
       "0  0.098698  0.363787  ... -0.018307  0.277838 -0.110474  0.066928  0.128539   \n",
       "1  0.085102 -0.255425  ... -0.225775 -0.638672  0.101288 -0.339846  0.167170   \n",
       "2  0.247676 -1.514654  ...  0.247998  0.771679  0.909412 -0.689281 -0.327642   \n",
       "3  0.377436 -1.387024  ... -0.108300  0.005274 -0.190321 -1.175575  0.647376   \n",
       "4 -0.270533  0.817739  ... -0.009431  0.798278 -0.137458  0.141267 -0.206010   \n",
       "\n",
       "        V26       V27       V28  Amount  Class  \n",
       "0 -0.189115  0.133558 -0.021053  149.62      0  \n",
       "1  0.125895 -0.008983  0.014724    2.69      0  \n",
       "2 -0.139097 -0.055353 -0.059752  378.66      0  \n",
       "3 -0.221929  0.062723  0.061458  123.50      0  \n",
       "4  0.502292  0.219422  0.215153   69.99      0  \n",
       "\n",
       "[5 rows x 31 columns]"
      ]
     },
     "execution_count": 72,
     "metadata": {},
     "output_type": "execute_result"
    }
   ],
   "source": [
    "credit_card_data = pd.read_csv(r\"C:\\Users\\james\\OneDrive\\Documents\\OASIS INFOBYTE INTERNSHIP\\PROJECT LIST DATA ANALYTICS\\LEVEL 2\\AUTOCOMPLETE AND AUTOCORRECT DATA ANALYTICS\\Dataset\\creditcard.csv\")\n",
    "\n",
    "#Display first 5 rows\n",
    "credit_card_data.head()\n"
   ]
  },
  {
   "cell_type": "markdown",
   "id": "7cfab81f-fa22-4ff0-a206-6bb2cfae35f4",
   "metadata": {},
   "source": [
    "# Simulated text data\n",
    "\n",
    "A small sample of text data is created to simulate user input for the autocomplete and autocorrect functionalities."
   ]
  },
  {
   "cell_type": "code",
   "execution_count": 73,
   "id": "19c91a0d-96bc-4682-9dd3-1c58b36f552a",
   "metadata": {},
   "outputs": [],
   "source": [
    "# Simulated Text Data Generation for Autocomplete and Autocorrect\n",
    "# Generate a small sample of text data (simulating user input)\n",
    "text_data = [\n",
    "    \"Fraud detection is critical in financial transactions.\",\n",
    "    \"The cardholder is responsible for the transactions.\",\n",
    "    \"Detecting fraudulent activities can save millions.\",\n",
    "    \"Credit card fraud can occur in various forms.\",\n",
    "    \"Always report suspicious transactions immediately.\"\n",
    "]"
   ]
  },
  {
   "cell_type": "markdown",
   "id": "7aca5f11-07d1-456f-8b81-2b55393d7479",
   "metadata": {},
   "source": [
    "# NLP PreProcessing\n",
    "\n",
    "The `preprocess_text` function cleans the text data by removing punctuation and converting it to lowercase."
   ]
  },
  {
   "cell_type": "code",
   "execution_count": 74,
   "id": "dee1ec83-de83-4ab7-84f5-66c9fa3dcc5a",
   "metadata": {},
   "outputs": [],
   "source": [
    "def preprocess_text(text):\n",
    "    text = re.sub(r'[^\\w\\s]', '', text)  # Remove punctuation\n",
    "    text = text.lower()  # Convert to lowercase\n",
    "    return text\n",
    "\n",
    "# Preprocess text data\n",
    "cleaned_text_data = [preprocess_text(text) for text in text_data]"
   ]
  },
  {
   "cell_type": "markdown",
   "id": "560ae300-0bc2-4246-8152-0d6e762f2f81",
   "metadata": {},
   "source": [
    "# Autocomplete and Autocorrect Functionalities"
   ]
  },
  {
   "cell_type": "markdown",
   "id": "bafd8a47-90d7-4173-a11a-56f860cfd758",
   "metadata": {},
   "source": [
    "### Autocomlpete Functionality\n",
    "\n",
    "The `autocomplete` function suggests words based on the user’s input."
   ]
  },
  {
   "cell_type": "code",
   "execution_count": 75,
   "id": "3ca6bb07-6266-4c13-9593-c729b6b37897",
   "metadata": {},
   "outputs": [],
   "source": [
    "def autocomplete(input_text, text_data, n=3):\n",
    "    # Tokenize and create a list of words\n",
    "    words = ' '.join(text_data).split()\n",
    "    word_count = Counter(words)\n",
    "\n",
    " # Find suggestions\n",
    "    suggestions = [word for word in word_count if word.startswith(input_text)]\n",
    "    return suggestions[:n]"
   ]
  },
  {
   "cell_type": "markdown",
   "id": "a65bd69f-f42a-4e6a-98e4-5095363f7703",
   "metadata": {},
   "source": [
    "### Autocorrect Functionality\n",
    "\n",
    "The `autocorrect` function corrects misspelled words based on the closest match from a given dictionary using the Levenshtein distance."
   ]
  },
  {
   "cell_type": "code",
   "execution_count": 76,
   "id": "d57a8a6a-0c43-4b43-93ca-fdc46cc21897",
   "metadata": {},
   "outputs": [],
   "source": [
    "### Autocorrect Implementation \n",
    "def autocorrect(input_word, dictionary):\n",
    "    def levenshtein(s1, s2):\n",
    "        if len(s1) < len(s2):\n",
    "            return levenshtein(s2, s1)\n",
    "        if len(s2) == 0:\n",
    "            return len(s1)\n",
    "        s1, s2 = list(s1), list(s2)\n",
    "        previous_row = range(len(s2) + 1)\n",
    "        for i, c1 in enumerate(s1):\n",
    "            current_row = [i + 1]\n",
    "            for j, c2 in enumerate(s2):\n",
    "                insertions = previous_row[j + 1] + 1\n",
    "                deletions = current_row[j] + 1\n",
    "                substitutions = previous_row[j] + (c1 != c2)\n",
    "                current_row.append(min(insertions, deletions, substitutions))\n",
    "            previous_row = current_row\n",
    "        return previous_row[-1]\n",
    "    \n",
    "    closest_word = min(dictionary, key=lambda word: levenshtein(input_word, word))\n",
    "    return closest_word"
   ]
  },
  {
   "cell_type": "code",
   "execution_count": 77,
   "id": "63eb5f29-268b-48e4-aae7-f23971aa6463",
   "metadata": {},
   "outputs": [],
   "source": [
    "# Metrics Definition (Placeholder)\n",
    "def define_metrics(true_labels, predicted_labels):\n",
    "    # Placeholder for metric calculations\n",
    "    pass"
   ]
  },
  {
   "cell_type": "code",
   "execution_count": 78,
   "id": "1cbbf254-9892-4ed3-896e-af5f2655b31f",
   "metadata": {},
   "outputs": [],
   "source": [
    "### User Experience Assessment (Placeholder)\n",
    "def assess_user_experience(feedback):\n",
    "    # Placeholder for analyzing feedback\n",
    "    pass"
   ]
  },
  {
   "cell_type": "code",
   "execution_count": 79,
   "id": "ac23844f-9d5e-4c83-9184-4d7d505b5724",
   "metadata": {},
   "outputs": [
    {
     "name": "stdout",
     "output_type": "stream",
     "text": [
      "Autocomplete Suggestions for 'fr': ['fraud', 'fraudulent']\n",
      "Autocorrect for 'frad': fraud\n"
     ]
    }
   ],
   "source": [
    "# Example Usage\n",
    "# Test autocomplete\n",
    "print(\"Autocomplete Suggestions for 'fr':\", autocomplete('fr', cleaned_text_data))\n",
    "\n",
    "# Test autocorrect\n",
    "sample_dictionary = ['fraud', 'detection', 'is', 'critical', 'in', 'financial', 'transactions']\n",
    "print(\"Autocorrect for 'frad':\", autocorrect('frad', sample_dictionary))"
   ]
  },
  {
   "cell_type": "markdown",
   "id": "52e82eb8-21af-4b2b-ab9e-36eaca26300a",
   "metadata": {},
   "source": [
    "### Data Visualization\n",
    "\n",
    "A bar plot visualizes the frequency of the top 10 words in the text data."
   ]
  },
  {
   "cell_type": "code",
   "execution_count": 80,
   "id": "a7d526f1-c7b9-4e61-afcb-3cb5c474f26b",
   "metadata": {},
   "outputs": [
    {
     "data": {
      "image/png": "[encoded data removed]",
      "text/plain": [
       "<Figure size 1000x500 with 1 Axes>"
      ]
     },
     "metadata": {},
     "output_type": "display_data"
    }
   ],
   "source": [
    "###Visualize Word Frequencies\n",
    "def visualize_word_frequencies(text_data):\n",
    "    words = ' '.join(text_data).split()\n",
    "    word_count = Counter(words)\n",
    "    \n",
    "    # Create a DataFrame from the Counter\n",
    "    word_df = pd.DataFrame(word_count.most_common(10), columns=['Word', 'Frequency'])\n",
    "    \n",
    "    plt.figure(figsize=(10, 5))\n",
    "    sns.barplot(data=word_df, x='Word', y='Frequency', palette='viridis')\n",
    "    plt.title('Top 10 Words in Text Data')\n",
    "    plt.xticks(rotation=45)\n",
    "    plt.show()\n",
    "\n",
    "# Visualize word frequencies\n",
    "visualize_word_frequencies(cleaned_text_data)"
   ]
  },
  {
   "cell_type": "markdown",
   "id": "8ca097ee-226b-4b06-94b8-1c249a3ca5bf",
   "metadata": {},
   "source": [
    "## Model Training and Evaluation\n",
    "\n",
    "#### The credit card fraud model is trained and evaluated using a Random Forest classifier"
   ]
  },
  {
   "cell_type": "markdown",
   "id": "bc8a0293-8af7-4bbd-857f-6b466ec6e023",
   "metadata": {},
   "source": [
    "### Model Training (Using Original Dataset)"
   ]
  },
  {
   "cell_type": "code",
   "execution_count": 81,
   "id": "0580e51a-fb63-4d04-ad35-b768d7b85fea",
   "metadata": {},
   "outputs": [],
   "source": [
    "def train_model(X_train, y_train):\n",
    "    model = RandomForestClassifier(n_estimators=100, random_state=42)\n",
    "    model.fit(X_train, y_train)\n",
    "    return model\n",
    "\n",
    "# Train-test split for credit card fraud dataset\n",
    "X = credit_card_data.drop(['Class'], axis=1)\n",
    "y = credit_card_data['Class']\n",
    "X_train, X_test, y_train, y_test = train_test_split(X, y, test_size=0.3, random_state=42)\n",
    "\n",
    "# Train the model\n",
    "fraud_model = train_model(X_train, y_train)"
   ]
  },
  {
   "cell_type": "markdown",
   "id": "4e5c0770-4781-4708-bbc6-2f9200a6bf66",
   "metadata": {},
   "source": [
    "### Evaluating the Model"
   ]
  },
  {
   "cell_type": "code",
   "execution_count": 82,
   "id": "36aa9630-ccb6-40dc-b166-28e88f3dfd5e",
   "metadata": {},
   "outputs": [
    {
     "name": "stdout",
     "output_type": "stream",
     "text": [
      "Confusion Matrix:\n",
      "[[85301     6]\n",
      " [   27   109]]\n",
      "\n",
      "Classification Report:\n",
      "              precision    recall  f1-score   support\n",
      "\n",
      "           0       1.00      1.00      1.00     85307\n",
      "           1       0.95      0.80      0.87       136\n",
      "\n",
      "    accuracy                           1.00     85443\n",
      "   macro avg       0.97      0.90      0.93     85443\n",
      "weighted avg       1.00      1.00      1.00     85443\n",
      "\n"
     ]
    }
   ],
   "source": [
    "def evaluate_model(model, X_test, y_test):\n",
    "    predictions = model.predict(X_test)\n",
    "    \n",
    "    print(\"Confusion Matrix:\")\n",
    "    print(confusion_matrix(y_test, predictions))\n",
    "    \n",
    "    print(\"\\nClassification Report:\")\n",
    "    print(classification_report(y_test, predictions))\n",
    "\n",
    "# Evaluate the fraud detection model\n",
    "evaluate_model(fraud_model, X_test, y_test)"
   ]
  },
  {
   "cell_type": "markdown",
   "id": "1c5d87e6-cf16-41ff-81ae-481c767efa9e",
   "metadata": {},
   "source": [
    "### Breakdown\n",
    "\n",
    "The evaluation of the Random Forest classifier on the credit card fraud detection dataset yielded an accuracy of 97%. This high level of accuracy demonstrates the model's effectiveness in distinguishing between legitimate and fraudulent transactions. The model not only excelled in overall accuracy but also showed strong performance metrics in terms of precision and recall, indicating its capability to correctly identify fraudulent cases while minimizing false positives.\n",
    "\n",
    "Such performance is crucial in financial contexts where the cost of false negatives (missing fraudulent transactions) can be significant. The results underscore the potential of the Random Forest algorithm as a reliable tool for fraud detection, making it a valuable asset for organizations seeking to enhance their security measures."
   ]
  },
  {
   "cell_type": "markdown",
   "id": "a840b77e-1fe1-484a-8d80-5e1e13429983",
   "metadata": {},
   "source": [
    "### Conclusion\n",
    "\n",
    "The analysis conducted using the credit card fraud dataset and the simulated text data for autocomplete and autocorrect functionalities highlights several key insights:\n",
    "\n",
    "1. **Efficiency of Autocomplete and Autocorrect**:\n",
    "   - The implementation of autocomplete demonstrated the ability to provide relevant suggestions based on user input. This functionality can significantly enhance user experience by minimizing typing effort and improving text entry efficiency.\n",
    "   - The autocorrect feature effectively suggests the closest correct words for misspelled inputs, indicating its potential utility in applications requiring text input.\n",
    "\n",
    "2. **Model Performance in Fraud Detection**:\n",
    "   - The Random Forest model trained on the credit card fraud dataset displayed a structured approach to identifying fraudulent transactions. The evaluation metrics, including the confusion matrix and classification report, provide insights into the model’s predictive accuracy and ability to generalize on unseen data.\n",
    "\n",
    "3. **Data Visualization**:\n",
    "   - Visualizing word frequencies in the simulated text data not only aids in understanding common terminology but also can inform improvements in autocomplete and autocorrect algorithms by identifying frequently used words or phrases.\n"
   ]
  },
  {
   "cell_type": "code",
   "execution_count": null,
   "id": "705592d1-bab0-4281-b050-d54a88a5ce3f",
   "metadata": {},
   "outputs": [],
   "source": []
  }
 ],
 "metadata": {
  "kernelspec": {
   "display_name": "Python 3 (ipykernel)",
   "language": "python",
   "name": "python3"
  },
  "language_info": {
   "codemirror_mode": {
    "name": "ipython",
    "version": 3
   },
   "file_extension": ".py",
   "mimetype": "text/x-python",
   "name": "python",
   "nbconvert_exporter": "python",
   "pygments_lexer": "ipython3",
   "version": "3.12.4"
  }
 },
 "nbformat": 4,
 "nbformat_minor": 5
}
